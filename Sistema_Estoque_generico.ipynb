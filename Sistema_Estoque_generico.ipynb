{
  "nbformat": 4,
  "nbformat_minor": 0,
  "metadata": {
    "colab": {
      "provenance": [],
      "toc_visible": true
    },
    "kernelspec": {
      "name": "python3",
      "display_name": "Python 3"
    },
    "language_info": {
      "name": "python"
    }
  },
  "cells": [
    {
      "cell_type": "markdown",
      "source": [
        "Sistema genérico de gerenciamento de estoque ultilizando Programação Orientada a Objetos e o SGBD SQLite\n",
        "\n",
        "\n",
        "\n"
      ],
      "metadata": {
        "id": "2XeMxkjHvqUq"
      }
    },
    {
      "cell_type": "code",
      "source": [
        "import sqlite3\n",
        "\n",
        "class ItemEstoque:\n",
        "    def __init__(self, nome, marca, preco, modelo, quantidade, ):\n",
        "        self.nome = nome\n",
        "        self.marca = marca\n",
        "        self.preco = preco\n",
        "        self.modelo = modelo\n",
        "        self.quantidade = quantidade\n",
        "\n",
        "    def exibir_informacoes(self):\n",
        "        print(f\"Nome: {self.nome}, Marca: {self.marca}, Preço: {self.preco}, Modelo: {self.modelo}, Quantidade: {self.quantidade}\")\n",
        "\n",
        "class Estoque:\n",
        "  def__init__(self, db_name = 'estoque.db'):\n",
        "    self.conn = sqlite3.connect(db_name)\n",
        "    self.criar_tabela()\n",
        "\n",
        "  def criar_tabela(self):\n",
        "    with self.conn:\n",
        "      self.conn.execute(\"\"\"\n",
        "        CREATE TABLE IF NOT EXISTS itens (\n",
        "          id INTEGER PRIMARY KEY AUTOINCREMENT,\n",
        "          nome TEXT NOT NULL,\n",
        "          marca TEXT NOT NULL,\n",
        "          preco REAL NOT NULL,\n",
        "          modelo TEXT NOT NULL,\n",
        "          quantidade INTEGER NOT NULL\n",
        "        )\n",
        "      \"\"\")\n",
        "\n",
        "   def adicionar_item(self, item):\n",
        "     with self.conn:\n",
        "      self.conn.execute(\"\"\"\n",
        "          INSERT INTO (nome, marca, preco, modelo, quantidade)\n",
        "          VALUES (?, ?, ?, ?, ?)\"\"\", (item.nome, item.marca, item.preco, item.modelo, item.quantidade))\n",
        "      print(\"Item adicionado ao estoque com sucesso!\")\n",
        "\n",
        "   def remover_item(self, nome_item):\n",
        "    with self.conn:\n",
        "      self.conn.execute(\"DELETE FROM itens WHERE nome = ?\", (nome_item,))\n",
        "      if cursor.rowcount > 0:\n",
        "        print(\"Item removido do estoque com sucesso!\")\n",
        "      else:\n",
        "        print(\"Item não encontrado no estoque.\")\n",
        "\n",
        "    def editar_item(self, nome_item, novos_dados):\n",
        "      with self.conn:\n",
        "        self.conn.execute(\"\"\"\n",
        "          UPDATE itens\n",
        "          SET nome = ?, marca = ?, preco = ?, modelo = ?, quantidade = ?\n",
        "          WHERE nome = ?)\"\"\", (novos_dados.nome, novos_dados.marca, novos_dados.preco, novos_dados.modelo, novos_dados.quantidade, nome_item))\n",
        "        print(\"Item atualizado com sucesso!\")\n",
        "\n",
        "\n",
        "    def exibir_itens(self):\n",
        "      with self.conn:\n",
        "        cursor = self.conn.execute (\"SELECT * FROM itens\")\n",
        "        for row in cursor:\n",
        "          item = ItemEstoque(row[1], row[2], row[3], row[4], row[5])\n",
        "          item.exibir_informacoes()\n",
        "\n",
        "          conexao.close()\n",
        "\n",
        "\n",
        "\n",
        ""
      ],
      "metadata": {
        "id": "C4haqPXIwH5i"
      },
      "execution_count": null,
      "outputs": []
    },
    {
      "cell_type": "code",
      "source": [],
      "metadata": {
        "id": "jPjGVA7ZwBVL"
      },
      "execution_count": null,
      "outputs": []
    }
  ]
}